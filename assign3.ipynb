{
  "nbformat": 4,
  "nbformat_minor": 0,
  "metadata": {
    "colab": {
      "name": "assign3.ipynb",
      "provenance": [],
      "collapsed_sections": []
    },
    "kernelspec": {
      "name": "python3",
      "display_name": "Python 3"
    },
    "language_info": {
      "name": "python"
    }
  },
  "cells": [
    {
      "cell_type": "code",
      "execution_count": 78,
      "metadata": {
        "id": "UXuA_Gtz9MEv"
      },
      "outputs": [],
      "source": [
        "import numpy as np\n",
        "import matplotlib.pyplot as plt\n",
        "import pandas as pd\n",
        "import tensorflow as tf\n",
        "import os\n",
        "from google.colab import drive\n",
        "from tensorflow.keras.preprocessing.text import Tokenizer\n",
        "from tensorflow.keras.preprocessing.sequence import pad_sequences\n",
        "from tensorflow.keras.layers import Embedding, Dense, Bidirectional, LSTM\n",
        "from keras.layers import Activation, Dense"
      ]
    },
    {
      "cell_type": "code",
      "source": [
        "drive.mount('/content/drive')"
      ],
      "metadata": {
        "colab": {
          "base_uri": "https://localhost:8080/"
        },
        "id": "2qCCGIEo388i",
        "outputId": "360bccb0-5466-47ac-c27d-ee21a2245fdb"
      },
      "execution_count": 79,
      "outputs": [
        {
          "output_type": "stream",
          "name": "stdout",
          "text": [
            "Drive already mounted at /content/drive; to attempt to forcibly remount, call drive.mount(\"/content/drive\", force_remount=True).\n"
          ]
        }
      ]
    },
    {
      "cell_type": "code",
      "source": [
        "datafiles_path = \"/content/drive/My Drive/ML_Assignment3/data\"\n",
        "datafiles_names = os.listdir(path=datafiles_path)"
      ],
      "metadata": {
        "id": "aHwqAEbo4TEQ"
      },
      "execution_count": 80,
      "outputs": []
    },
    {
      "cell_type": "code",
      "source": [
        "print(datafiles_names[:5])"
      ],
      "metadata": {
        "colab": {
          "base_uri": "https://localhost:8080/"
        },
        "id": "rQAg3jYF4cVU",
        "outputId": "408eadb3-e9bc-4dc9-87c2-64dce1a4acf6"
      },
      "execution_count": 81,
      "outputs": [
        {
          "output_type": "stream",
          "name": "stdout",
          "text": [
            "['da0c1f6ca5343f82', '6e7380081c3005fb', '08d560d3d168cebc', 'b15b2cf0065a50ca', '5d28a06904606d82']\n"
          ]
        }
      ]
    },
    {
      "cell_type": "code",
      "source": [
        "print(len(datafiles_names))"
      ],
      "metadata": {
        "colab": {
          "base_uri": "https://localhost:8080/"
        },
        "id": "SL51VXs34hSd",
        "outputId": "6bb6a7bf-d5e7-452e-cd8d-99d636d62747"
      },
      "execution_count": 82,
      "outputs": [
        {
          "output_type": "stream",
          "name": "stdout",
          "text": [
            "1149\n"
          ]
        }
      ]
    },
    {
      "cell_type": "code",
      "source": [
        "corpus_array = []\n",
        "\n",
        "for i in range(len(datafiles_names)):\n",
        "    path = os.path.join(datafiles_path,datafiles_names[i])\n",
        "    try:\n",
        "      if 'RESULTS' in open(path,'r').read():\n",
        "         corpus_array.append(open(path).read()[open(path,'r').read().find('== RESULTS') + 10:open(path,'r').read().find('== ISSUES')].replace('\\n',''))\n",
        "    except:\n",
        "        pass"
      ],
      "metadata": {
        "id": "YiIaegkq4qYV"
      },
      "execution_count": 83,
      "outputs": []
    },
    {
      "cell_type": "code",
      "source": [
        "corpus_array = corpus_array[:50]\n",
        "tokenizer = Tokenizer()\n",
        "tokenizer.fit_on_texts(corpus_array)\n",
        "all_words_count = len(tokenizer.word_index) + 1"
      ],
      "metadata": {
        "id": "O1e-HVIn6lOu"
      },
      "execution_count": 84,
      "outputs": []
    },
    {
      "cell_type": "code",
      "source": [
        "print(all_words_count)"
      ],
      "metadata": {
        "colab": {
          "base_uri": "https://localhost:8080/"
        },
        "id": "cpz2caZ261_J",
        "outputId": "52494b30-2cfa-4684-f096-05003451287a"
      },
      "execution_count": 85,
      "outputs": [
        {
          "output_type": "stream",
          "name": "stdout",
          "text": [
            "1047\n"
          ]
        }
      ]
    },
    {
      "cell_type": "code",
      "source": [
        "input_seq = []\n",
        "for line in corpus_array:\n",
        "    token_list = tokenizer.texts_to_sequences([line])[0]\n",
        "    for i in range(1, len(token_list)):\n",
        "        n_gram_seq = token_list[:i + 1]\n",
        "        input_seq.append(n_gram_seq)"
      ],
      "metadata": {
        "id": "ZKmKlNUJ7xRG"
      },
      "execution_count": 86,
      "outputs": []
    },
    {
      "cell_type": "code",
      "source": [
        "max_seq_len = max([len(x) for x in input_seq])"
      ],
      "metadata": {
        "id": "-1B-wc8p73aF"
      },
      "execution_count": 87,
      "outputs": []
    },
    {
      "cell_type": "code",
      "source": [
        "input_seq = np.array(pad_sequences(input_seq,\n",
        " maxlen=max_seq_len, padding='pre'))"
      ],
      "metadata": {
        "id": "_MWVKvCB75Yf"
      },
      "execution_count": 88,
      "outputs": []
    },
    {
      "cell_type": "code",
      "source": [
        "xs = input_seq[:, :-1]\n",
        "labels = input_seq[:, -1]"
      ],
      "metadata": {
        "id": "41NcEwO578Lu"
      },
      "execution_count": 89,
      "outputs": []
    },
    {
      "cell_type": "code",
      "source": [
        "xs = xs.astype(np.int16)\n",
        "ys = tf.keras.utils.to_categorical(labels, num_classes=total_words_count)"
      ],
      "metadata": {
        "id": "FVwXxep67_MH"
      },
      "execution_count": 90,
      "outputs": []
    },
    {
      "cell_type": "code",
      "source": [
        "model = tf.keras.models.Sequential()\n",
        "model.add(Embedding(input_dim=total_words_count, output_dim=250, input_length=max_sequence_len - 1))\n",
        "model.add(Bidirectional(LSTM(10, return_sequences=True), input_shape=(5, 10)))\n",
        "model.add(Bidirectional(LSTM(10)))\n",
        "model.add(Dense(total_words_count))\n",
        "model.add(Activation('softmax'))\n",
        "model.compile(loss='categorical_crossentropy', optimizer='rmsprop', metrics=['accuracy'])"
      ],
      "metadata": {
        "id": "xgYgHFDYsTKm"
      },
      "execution_count": 91,
      "outputs": []
    },
    {
      "cell_type": "code",
      "source": [
        "print(model.summary())"
      ],
      "metadata": {
        "colab": {
          "base_uri": "https://localhost:8080/"
        },
        "id": "X1bYiTAO8bXV",
        "outputId": "2d7848be-d89d-4b95-c9b5-68e8b24d12e7"
      },
      "execution_count": 92,
      "outputs": [
        {
          "output_type": "stream",
          "name": "stdout",
          "text": [
            "Model: \"sequential_3\"\n",
            "_________________________________________________________________\n",
            " Layer (type)                Output Shape              Param #   \n",
            "=================================================================\n",
            " embedding_3 (Embedding)     (None, 245, 250)          261750    \n",
            "                                                                 \n",
            " bidirectional_6 (Bidirectio  (None, 245, 20)          20880     \n",
            " nal)                                                            \n",
            "                                                                 \n",
            " bidirectional_7 (Bidirectio  (None, 20)               2480      \n",
            " nal)                                                            \n",
            "                                                                 \n",
            " dense_3 (Dense)             (None, 1047)              21987     \n",
            "                                                                 \n",
            " activation_3 (Activation)   (None, 1047)              0         \n",
            "                                                                 \n",
            "=================================================================\n",
            "Total params: 307,097\n",
            "Trainable params: 307,097\n",
            "Non-trainable params: 0\n",
            "_________________________________________________________________\n",
            "None\n"
          ]
        }
      ]
    },
    {
      "cell_type": "code",
      "source": [
        "hist = model.fit(xs, ys, epochs=20, verbose=1)"
      ],
      "metadata": {
        "colab": {
          "base_uri": "https://localhost:8080/"
        },
        "id": "5txOlyPa8iz4",
        "outputId": "b1475660-663b-42bb-a124-556003f7eeb6"
      },
      "execution_count": 93,
      "outputs": [
        {
          "output_type": "stream",
          "name": "stdout",
          "text": [
            "Epoch 1/20\n",
            "78/78 [==============================] - 31s 317ms/step - loss: 6.7481 - accuracy: 0.0384\n",
            "Epoch 2/20\n",
            "78/78 [==============================] - 25s 314ms/step - loss: 6.2842 - accuracy: 0.0514\n",
            "Epoch 3/20\n",
            "78/78 [==============================] - 24s 312ms/step - loss: 6.1650 - accuracy: 0.0514\n",
            "Epoch 4/20\n",
            "78/78 [==============================] - 25s 315ms/step - loss: 6.1190 - accuracy: 0.0514\n",
            "Epoch 5/20\n",
            "78/78 [==============================] - 25s 322ms/step - loss: 6.0564 - accuracy: 0.0514\n",
            "Epoch 6/20\n",
            "78/78 [==============================] - 25s 315ms/step - loss: 5.9970 - accuracy: 0.0514\n",
            "Epoch 7/20\n",
            "78/78 [==============================] - 25s 321ms/step - loss: 5.9470 - accuracy: 0.0534\n",
            "Epoch 8/20\n",
            "78/78 [==============================] - 25s 314ms/step - loss: 5.9118 - accuracy: 0.0554\n",
            "Epoch 9/20\n",
            "78/78 [==============================] - 25s 318ms/step - loss: 5.8839 - accuracy: 0.0526\n",
            "Epoch 10/20\n",
            "78/78 [==============================] - 25s 316ms/step - loss: 5.8444 - accuracy: 0.0558\n",
            "Epoch 11/20\n",
            "78/78 [==============================] - 25s 320ms/step - loss: 5.8257 - accuracy: 0.0538\n",
            "Epoch 12/20\n",
            "78/78 [==============================] - 25s 315ms/step - loss: 5.8019 - accuracy: 0.0542\n",
            "Epoch 13/20\n",
            "78/78 [==============================] - 25s 317ms/step - loss: 5.7798 - accuracy: 0.0579\n",
            "Epoch 14/20\n",
            "78/78 [==============================] - 25s 316ms/step - loss: 5.7605 - accuracy: 0.0550\n",
            "Epoch 15/20\n",
            "78/78 [==============================] - 25s 320ms/step - loss: 5.7453 - accuracy: 0.0579\n",
            "Epoch 16/20\n",
            "78/78 [==============================] - 25s 315ms/step - loss: 5.7234 - accuracy: 0.0567\n",
            "Epoch 17/20\n",
            "78/78 [==============================] - 25s 315ms/step - loss: 5.7074 - accuracy: 0.0583\n",
            "Epoch 18/20\n",
            "78/78 [==============================] - 25s 318ms/step - loss: 5.7013 - accuracy: 0.0591\n",
            "Epoch 19/20\n",
            "78/78 [==============================] - 25s 318ms/step - loss: 5.6852 - accuracy: 0.0595\n",
            "Epoch 20/20\n",
            "78/78 [==============================] - 25s 316ms/step - loss: 5.6686 - accuracy: 0.0579\n"
          ]
        }
      ]
    },
    {
      "cell_type": "code",
      "source": [
        "model.save('unsupervised_model1')"
      ],
      "metadata": {
        "colab": {
          "base_uri": "https://localhost:8080/"
        },
        "id": "TRm9rZACqn-i",
        "outputId": "8b8e51a5-972c-42c7-f226-a940f916e995"
      },
      "execution_count": 95,
      "outputs": [
        {
          "output_type": "stream",
          "name": "stderr",
          "text": [
            "WARNING:absl:Found untraced functions such as lstm_cell_19_layer_call_fn, lstm_cell_19_layer_call_and_return_conditional_losses, lstm_cell_20_layer_call_fn, lstm_cell_20_layer_call_and_return_conditional_losses, lstm_cell_22_layer_call_fn while saving (showing 5 of 20). These functions will not be directly callable after loading.\n"
          ]
        },
        {
          "output_type": "stream",
          "name": "stdout",
          "text": [
            "INFO:tensorflow:Assets written to: unsupervised_model1/assets\n"
          ]
        },
        {
          "output_type": "stream",
          "name": "stderr",
          "text": [
            "INFO:tensorflow:Assets written to: unsupervised_model1/assets\n",
            "WARNING:absl:<keras.layers.recurrent.LSTMCell object at 0x7f89e66b5b50> has the same name 'LSTMCell' as a built-in Keras object. Consider renaming <class 'keras.layers.recurrent.LSTMCell'> to avoid naming conflicts when loading with `tf.keras.models.load_model`. If renaming is not possible, pass the object in the `custom_objects` parameter of the load function.\n",
            "WARNING:absl:<keras.layers.recurrent.LSTMCell object at 0x7f89e697a350> has the same name 'LSTMCell' as a built-in Keras object. Consider renaming <class 'keras.layers.recurrent.LSTMCell'> to avoid naming conflicts when loading with `tf.keras.models.load_model`. If renaming is not possible, pass the object in the `custom_objects` parameter of the load function.\n",
            "WARNING:absl:<keras.layers.recurrent.LSTMCell object at 0x7f89e1e361d0> has the same name 'LSTMCell' as a built-in Keras object. Consider renaming <class 'keras.layers.recurrent.LSTMCell'> to avoid naming conflicts when loading with `tf.keras.models.load_model`. If renaming is not possible, pass the object in the `custom_objects` parameter of the load function.\n",
            "WARNING:absl:<keras.layers.recurrent.LSTMCell object at 0x7f89e0de0310> has the same name 'LSTMCell' as a built-in Keras object. Consider renaming <class 'keras.layers.recurrent.LSTMCell'> to avoid naming conflicts when loading with `tf.keras.models.load_model`. If renaming is not possible, pass the object in the `custom_objects` parameter of the load function.\n"
          ]
        }
      ]
    },
    {
      "cell_type": "code",
      "source": [
        "model1 = tf.keras.models.load_model('unsupervised_model1')"
      ],
      "metadata": {
        "id": "SMS02X8girPY"
      },
      "execution_count": 96,
      "outputs": []
    },
    {
      "cell_type": "code",
      "source": [
        "def generate_text(seed_text,next_words,model):\n",
        "    for _ in range(next_words):\n",
        "        token_list = tokenizer.texts_to_sequences([seed_text])[0]\n",
        "        token_list = pad_sequences([token_list], maxlen=max_sequence_len - 1, padding='pre')\n",
        "        predict_x=model1.predict(token_list)\n",
        "        classes_x=np.argmax(predict_x,axis=1)\n",
        "        output_word = \"\"\n",
        "        for word, index in tokenizer.word_index.items():\n",
        "            if index == classes_x:\n",
        "                output_word = word\n",
        "                break\n",
        "        seed_text += ' ' + output_word\n",
        "    return seed_text\n",
        "generate_text('AI',10,model1)"
      ],
      "metadata": {
        "id": "oD4RgLvlL2W1",
        "colab": {
          "base_uri": "https://localhost:8080/",
          "height": 36
        },
        "outputId": "8d9901fb-61a2-47a2-de01-1f90c690ae74"
      },
      "execution_count": 105,
      "outputs": [
        {
          "output_type": "execute_result",
          "data": {
            "application/vnd.google.colaboratory.intrinsic+json": {
              "type": "string"
            },
            "text/plain": [
              "'AI the model the results the results the results of of'"
            ]
          },
          "metadata": {},
          "execution_count": 105
        }
      ]
    }
  ]
}